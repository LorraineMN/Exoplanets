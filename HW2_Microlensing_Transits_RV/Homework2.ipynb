{
 "cells": [
  {
   "cell_type": "markdown",
   "id": "5fa5194e",
   "metadata": {},
   "source": [
    "# Homework 2 - Microlensing, Transits, RVs\n",
    "Lorraine Nicholson"
   ]
  },
  {
   "cell_type": "markdown",
   "id": "bc584e28",
   "metadata": {},
   "source": [
    "## Problem 3\n",
    "### (a) First, let’s use the velocity of the planet in its orbit. We can approximate the transit duration as the time it takes the planet to travel 2Rstar at the time of transit– why is this? Use your planet velocity at θ = 0 to approximate what the duration should be (I recommend using the vis viva equation)."
   ]
  },
  {
   "cell_type": "code",
   "execution_count": 2,
   "id": "f0fdd2d6",
   "metadata": {},
   "outputs": [],
   "source": [
    "import numpy as np\n",
    "import matplotlib.pyplot as plt\n",
    "import pandas as pd"
   ]
  },
  {
   "cell_type": "code",
   "execution_count": 304,
   "id": "0807c173",
   "metadata": {},
   "outputs": [],
   "source": [
    "#My code from homework 1:\n",
    "\n",
    "#Constants\n",
    "G = 6.67e-8                    #cgs\n",
    "M_star = 1.989e33              #grams\n",
    "\n",
    "#Choose some values for a, e, and time\n",
    "a = 0.7*1.496e+13              #number of AU [cm]\n",
    "e = 0.29\n",
    "time_stop = 0.6*3.154e+7       #number of year [s]\n",
    "#dt = time_stop/100\n",
    "dt = 86400                     #1 days [s]\n",
    "dt=1000\n",
    "\n",
    "\n",
    "#Initial conditions\n",
    "r_initial = a*(1-e)\n",
    "t_initial = 0\n",
    "theta_initial = 0\n",
    "\n",
    "#Create lists for later\n",
    "r,theta,time = [r_initial], [theta_initial], [t_initial]\n",
    "dtheta = [theta_initial]\n",
    "\n",
    "#Total angular momentum\n",
    "curlyL = np.sqrt(G*M_star*a*(1-e**2))\n",
    "\n",
    "# Iterative process\n",
    "while t_initial < time_stop:\n",
    "    \n",
    "    #Update quantities\n",
    "    dTheta = (curlyL/r_initial**2) * dt\n",
    "    theta_initial += dTheta\n",
    "    r_initial = (a * (1-e**2)) / (1 + e*np.cos(theta_initial))\n",
    "    t_initial += dt\n",
    "    \n",
    "    #Save quantities\n",
    "    dtheta.append(dTheta)\n",
    "    theta.append(theta_initial)\n",
    "    r.append(r_initial)\n",
    "    time.append(t_initial)"
   ]
  },
  {
   "cell_type": "code",
   "execution_count": 305,
   "id": "e4153646",
   "metadata": {},
   "outputs": [
    {
     "data": {
      "image/png": "[encoded data removed]",
      "text/plain": [
       "<Figure size 640x480 with 1 Axes>"
      ]
     },
     "metadata": {},
     "output_type": "display_data"
    }
   ],
   "source": [
    "# Plotting\n",
    "plt.scatter(np.array(r)/1.496e+13*np.cos(theta), np.array(r)/1.496e+13*np.sin(theta), color='magenta')\n",
    "plt.scatter(0,0,marker=\"*\", color='orange', linewidth=3)\n",
    "do=9300\n",
    "plt.scatter(np.array(r)[do]/1.496e+13*np.cos(theta)[do], np.array(r)[do]/1.496e+13*np.sin(theta)[do], color='red')\n",
    "\n",
    "plt.xlabel('r cos($\\u03b8$)')\n",
    "plt.ylabel('r sin($\\u03b8$)')\n",
    "plt.title('For a planet with a = '+str(a/1.496e+13)+' AU, e = '+str(e)+', M$_{star}$ = M$_{\\odot}$');"
   ]
  },
  {
   "cell_type": "code",
   "execution_count": 189,
   "id": "aaa6e803",
   "metadata": {},
   "outputs": [],
   "source": [
    "r = np.array(r)            #cm\n",
    "theta = np.array(theta)    #radians\n",
    "time = np.array(time)      #s\n",
    "dtheta = np.array(dtheta)"
   ]
  },
  {
   "cell_type": "markdown",
   "id": "7eb7f2b3",
   "metadata": {},
   "source": [
    "The vis viva equation explains the orbital velocity of a planet on an eccentric orbit:\n",
    "\n",
    "$$\n",
    "v^2 = GM(\\frac{2}{r}-\\frac{1}{a})\n",
    "$$\n",
    "\n",
    "where r is the distance between the planet and the star, in this case I will consider r at periapse. And a is the semi-major axis of the orbit\n"
   ]
  },
  {
   "cell_type": "code",
   "execution_count": 100,
   "id": "ae455fd3",
   "metadata": {},
   "outputs": [
    {
     "data": {
      "text/plain": [
       "0.497"
      ]
     },
     "execution_count": 100,
     "metadata": {},
     "output_type": "execute_result"
    }
   ],
   "source": [
    "r[0]/1.496e+13 #distance from star to planet at periapse [AU]"
   ]
  },
  {
   "cell_type": "code",
   "execution_count": 101,
   "id": "c3d2323f",
   "metadata": {},
   "outputs": [
    {
     "data": {
      "text/plain": [
       "7435120000000.0"
      ]
     },
     "execution_count": 101,
     "metadata": {},
     "output_type": "execute_result"
    }
   ],
   "source": [
    "r[0] #distance from star to planet at periapse [cm]"
   ]
  },
  {
   "cell_type": "code",
   "execution_count": 102,
   "id": "12c3fe22",
   "metadata": {},
   "outputs": [
    {
     "data": {
      "text/plain": [
       "4797678.839037288"
      ]
     },
     "execution_count": 102,
     "metadata": {},
     "output_type": "execute_result"
    }
   ],
   "source": [
    "# Find the orbital velocity of the planet at periapse using the vis viva equation\n",
    "\n",
    "#Constants\n",
    "G = 6.67e-8                    #Gravitational constant [cgs]\n",
    "M_star = 1.989e33              #Mass of Sun [grams]\n",
    "R_star = 6.96e10               #Radius of sun [cm]\n",
    "\n",
    "#Other important values\n",
    "a = 0.7*1.496e+13              #semi-major axis chosen arbitratily [cm]\n",
    "r_periapse = r[0]              #[cm]\n",
    "\n",
    "velocity = np.sqrt(G*M_star*(2/r_periapse - 1/a))     #[cm/s]\n",
    "velocity\n"
   ]
  },
  {
   "cell_type": "markdown",
   "id": "a464afda",
   "metadata": {},
   "source": [
    "We know that in general,\n",
    "$$\n",
    "velocity = \\frac{distance}{time}\n",
    "$$\n",
    "so,\n",
    "$$\n",
    "time = \\frac{distance}{velocity}\n",
    "$$"
   ]
  },
  {
   "cell_type": "code",
   "execution_count": 103,
   "id": "24cd713e",
   "metadata": {},
   "outputs": [
    {
     "name": "stdout",
     "output_type": "stream",
     "text": [
      "Transit time is about  29014.0304656016 s.\n"
     ]
    }
   ],
   "source": [
    "# Determine the distance the planet needs to travel for one transit\n",
    "transit_length = 2*R_star      #[cm]\n",
    "\n",
    "# Calculate transit time\n",
    "transit_time = transit_length/velocity\n",
    "transit_time\n",
    "\n",
    "print('Transit time is about ',transit_time,'s.')\n"
   ]
  },
  {
   "cell_type": "markdown",
   "id": "8ee777ec",
   "metadata": {},
   "source": [
    "### (b) Second, we should determine where in the orbit the +/- ry components of the planet’s position are equal to Rstar. Make your timestep in your code, ∆t, small enough that you get at least 10 measurements of ry that are less than or equal to Rstar when the planet is near transit. You’ll want to make sure rx is positive when you do this– otherwise you’ll mix up transit (when the planet is passing in front of the star) with eclipse (when the planet is passing behind the star)! When you get at least 10 measurements of the planet’s orbit during transit, figure out the maximum and minimum time when ry < Rstar. Is this similar to your estimate from (a)?"
   ]
  },
  {
   "cell_type": "code",
   "execution_count": 124,
   "id": "cb1124d7",
   "metadata": {},
   "outputs": [],
   "source": [
    "import pandas as pd"
   ]
  },
  {
   "cell_type": "code",
   "execution_count": 156,
   "id": "d71e50d5",
   "metadata": {},
   "outputs": [],
   "source": [
    "# Convert from polar to cartesian coordinates\n",
    "r_y = np.array(r)*np.sin(theta)          #[cm]\n",
    "r_x = np.array(r)*np.cos(theta)          #[cm]\n"
   ]
  },
  {
   "cell_type": "code",
   "execution_count": 157,
   "id": "20edae89",
   "metadata": {},
   "outputs": [
    {
     "data": {
      "text/html": [
       "<div>\n",
       "<style scoped>\n",
       "    .dataframe tbody tr th:only-of-type {\n",
       "        vertical-align: middle;\n",
       "    }\n",
       "\n",
       "    .dataframe tbody tr th {\n",
       "        vertical-align: top;\n",
       "    }\n",
       "\n",
       "    .dataframe thead th {\n",
       "        text-align: right;\n",
       "    }\n",
       "</style>\n",
       "<table border=\"1\" class=\"dataframe\">\n",
       "  <thead>\n",
       "    <tr style=\"text-align: right;\">\n",
       "      <th></th>\n",
       "      <th>ry</th>\n",
       "      <th>rx</th>\n",
       "      <th>time</th>\n",
       "    </tr>\n",
       "  </thead>\n",
       "  <tbody>\n",
       "    <tr>\n",
       "      <th>0</th>\n",
       "      <td>0.000000e+00</td>\n",
       "      <td>7.435120e+12</td>\n",
       "      <td>0</td>\n",
       "    </tr>\n",
       "    <tr>\n",
       "      <th>1</th>\n",
       "      <td>4.797679e+09</td>\n",
       "      <td>7.435119e+12</td>\n",
       "      <td>1000</td>\n",
       "    </tr>\n",
       "    <tr>\n",
       "      <th>2</th>\n",
       "      <td>9.595356e+09</td>\n",
       "      <td>7.435115e+12</td>\n",
       "      <td>2000</td>\n",
       "    </tr>\n",
       "    <tr>\n",
       "      <th>3</th>\n",
       "      <td>1.439303e+10</td>\n",
       "      <td>7.435109e+12</td>\n",
       "      <td>3000</td>\n",
       "    </tr>\n",
       "    <tr>\n",
       "      <th>4</th>\n",
       "      <td>1.919070e+10</td>\n",
       "      <td>7.435101e+12</td>\n",
       "      <td>4000</td>\n",
       "    </tr>\n",
       "    <tr>\n",
       "      <th>...</th>\n",
       "      <td>...</td>\n",
       "      <td>...</td>\n",
       "      <td>...</td>\n",
       "    </tr>\n",
       "    <tr>\n",
       "      <th>18920</th>\n",
       "      <td>2.061153e+12</td>\n",
       "      <td>7.211258e+12</td>\n",
       "      <td>18920000</td>\n",
       "    </tr>\n",
       "    <tr>\n",
       "      <th>18921</th>\n",
       "      <td>2.065807e+12</td>\n",
       "      <td>7.210235e+12</td>\n",
       "      <td>18921000</td>\n",
       "    </tr>\n",
       "    <tr>\n",
       "      <th>18922</th>\n",
       "      <td>2.070461e+12</td>\n",
       "      <td>7.209210e+12</td>\n",
       "      <td>18922000</td>\n",
       "    </tr>\n",
       "    <tr>\n",
       "      <th>18923</th>\n",
       "      <td>2.075114e+12</td>\n",
       "      <td>7.208182e+12</td>\n",
       "      <td>18923000</td>\n",
       "    </tr>\n",
       "    <tr>\n",
       "      <th>18924</th>\n",
       "      <td>2.079766e+12</td>\n",
       "      <td>7.207152e+12</td>\n",
       "      <td>18924000</td>\n",
       "    </tr>\n",
       "  </tbody>\n",
       "</table>\n",
       "<p>18925 rows × 3 columns</p>\n",
       "</div>"
      ],
      "text/plain": [
       "                 ry            rx      time\n",
       "0      0.000000e+00  7.435120e+12         0\n",
       "1      4.797679e+09  7.435119e+12      1000\n",
       "2      9.595356e+09  7.435115e+12      2000\n",
       "3      1.439303e+10  7.435109e+12      3000\n",
       "4      1.919070e+10  7.435101e+12      4000\n",
       "...             ...           ...       ...\n",
       "18920  2.061153e+12  7.211258e+12  18920000\n",
       "18921  2.065807e+12  7.210235e+12  18921000\n",
       "18922  2.070461e+12  7.209210e+12  18922000\n",
       "18923  2.075114e+12  7.208182e+12  18923000\n",
       "18924  2.079766e+12  7.207152e+12  18924000\n",
       "\n",
       "[18925 rows x 3 columns]"
      ]
     },
     "execution_count": 157,
     "metadata": {},
     "output_type": "execute_result"
    }
   ],
   "source": [
    "# Make a data frame of relavent values\n",
    "d = {'ry': r_y, 'rx': r_x, 'time': time}\n",
    "df = pd.DataFrame(data=d)\n",
    "df"
   ]
  },
  {
   "cell_type": "code",
   "execution_count": 158,
   "id": "811e7178",
   "metadata": {
    "scrolled": true
   },
   "outputs": [
    {
     "data": {
      "text/html": [
       "<div>\n",
       "<style scoped>\n",
       "    .dataframe tbody tr th:only-of-type {\n",
       "        vertical-align: middle;\n",
       "    }\n",
       "\n",
       "    .dataframe tbody tr th {\n",
       "        vertical-align: top;\n",
       "    }\n",
       "\n",
       "    .dataframe thead th {\n",
       "        text-align: right;\n",
       "    }\n",
       "</style>\n",
       "<table border=\"1\" class=\"dataframe\">\n",
       "  <thead>\n",
       "    <tr style=\"text-align: right;\">\n",
       "      <th></th>\n",
       "      <th>ry</th>\n",
       "      <th>rx</th>\n",
       "      <th>time</th>\n",
       "    </tr>\n",
       "  </thead>\n",
       "  <tbody>\n",
       "    <tr>\n",
       "      <th>0</th>\n",
       "      <td>0.000000e+00</td>\n",
       "      <td>7.435120e+12</td>\n",
       "      <td>0</td>\n",
       "    </tr>\n",
       "    <tr>\n",
       "      <th>1</th>\n",
       "      <td>4.797679e+09</td>\n",
       "      <td>7.435119e+12</td>\n",
       "      <td>1000</td>\n",
       "    </tr>\n",
       "    <tr>\n",
       "      <th>2</th>\n",
       "      <td>9.595356e+09</td>\n",
       "      <td>7.435115e+12</td>\n",
       "      <td>2000</td>\n",
       "    </tr>\n",
       "    <tr>\n",
       "      <th>3</th>\n",
       "      <td>1.439303e+10</td>\n",
       "      <td>7.435109e+12</td>\n",
       "      <td>3000</td>\n",
       "    </tr>\n",
       "    <tr>\n",
       "      <th>4</th>\n",
       "      <td>1.919070e+10</td>\n",
       "      <td>7.435101e+12</td>\n",
       "      <td>4000</td>\n",
       "    </tr>\n",
       "    <tr>\n",
       "      <th>5</th>\n",
       "      <td>2.398837e+10</td>\n",
       "      <td>7.435090e+12</td>\n",
       "      <td>5000</td>\n",
       "    </tr>\n",
       "    <tr>\n",
       "      <th>6</th>\n",
       "      <td>2.878602e+10</td>\n",
       "      <td>7.435077e+12</td>\n",
       "      <td>6000</td>\n",
       "    </tr>\n",
       "    <tr>\n",
       "      <th>7</th>\n",
       "      <td>3.358367e+10</td>\n",
       "      <td>7.435061e+12</td>\n",
       "      <td>7000</td>\n",
       "    </tr>\n",
       "    <tr>\n",
       "      <th>8</th>\n",
       "      <td>3.838131e+10</td>\n",
       "      <td>7.435043e+12</td>\n",
       "      <td>8000</td>\n",
       "    </tr>\n",
       "    <tr>\n",
       "      <th>9</th>\n",
       "      <td>4.317894e+10</td>\n",
       "      <td>7.435023e+12</td>\n",
       "      <td>9000</td>\n",
       "    </tr>\n",
       "    <tr>\n",
       "      <th>10</th>\n",
       "      <td>4.797655e+10</td>\n",
       "      <td>7.435000e+12</td>\n",
       "      <td>10000</td>\n",
       "    </tr>\n",
       "    <tr>\n",
       "      <th>11</th>\n",
       "      <td>5.277415e+10</td>\n",
       "      <td>7.434975e+12</td>\n",
       "      <td>11000</td>\n",
       "    </tr>\n",
       "    <tr>\n",
       "      <th>12</th>\n",
       "      <td>5.757173e+10</td>\n",
       "      <td>7.434947e+12</td>\n",
       "      <td>12000</td>\n",
       "    </tr>\n",
       "    <tr>\n",
       "      <th>13</th>\n",
       "      <td>6.236929e+10</td>\n",
       "      <td>7.434917e+12</td>\n",
       "      <td>13000</td>\n",
       "    </tr>\n",
       "    <tr>\n",
       "      <th>14</th>\n",
       "      <td>6.716684e+10</td>\n",
       "      <td>7.434885e+12</td>\n",
       "      <td>14000</td>\n",
       "    </tr>\n",
       "    <tr>\n",
       "      <th>18472</th>\n",
       "      <td>-6.738335e+10</td>\n",
       "      <td>7.434883e+12</td>\n",
       "      <td>18472000</td>\n",
       "    </tr>\n",
       "    <tr>\n",
       "      <th>18473</th>\n",
       "      <td>-6.258581e+10</td>\n",
       "      <td>7.434916e+12</td>\n",
       "      <td>18473000</td>\n",
       "    </tr>\n",
       "    <tr>\n",
       "      <th>18474</th>\n",
       "      <td>-5.778826e+10</td>\n",
       "      <td>7.434946e+12</td>\n",
       "      <td>18474000</td>\n",
       "    </tr>\n",
       "    <tr>\n",
       "      <th>18475</th>\n",
       "      <td>-5.299069e+10</td>\n",
       "      <td>7.434974e+12</td>\n",
       "      <td>18475000</td>\n",
       "    </tr>\n",
       "    <tr>\n",
       "      <th>18476</th>\n",
       "      <td>-4.819311e+10</td>\n",
       "      <td>7.434999e+12</td>\n",
       "      <td>18476000</td>\n",
       "    </tr>\n",
       "    <tr>\n",
       "      <th>18477</th>\n",
       "      <td>-4.339550e+10</td>\n",
       "      <td>7.435022e+12</td>\n",
       "      <td>18477000</td>\n",
       "    </tr>\n",
       "    <tr>\n",
       "      <th>18478</th>\n",
       "      <td>-3.859788e+10</td>\n",
       "      <td>7.435042e+12</td>\n",
       "      <td>18478000</td>\n",
       "    </tr>\n",
       "    <tr>\n",
       "      <th>18479</th>\n",
       "      <td>-3.380025e+10</td>\n",
       "      <td>7.435060e+12</td>\n",
       "      <td>18479000</td>\n",
       "    </tr>\n",
       "    <tr>\n",
       "      <th>18480</th>\n",
       "      <td>-2.900261e+10</td>\n",
       "      <td>7.435076e+12</td>\n",
       "      <td>18480000</td>\n",
       "    </tr>\n",
       "    <tr>\n",
       "      <th>18481</th>\n",
       "      <td>-2.420496e+10</td>\n",
       "      <td>7.435089e+12</td>\n",
       "      <td>18481000</td>\n",
       "    </tr>\n",
       "    <tr>\n",
       "      <th>18482</th>\n",
       "      <td>-1.940730e+10</td>\n",
       "      <td>7.435100e+12</td>\n",
       "      <td>18482000</td>\n",
       "    </tr>\n",
       "    <tr>\n",
       "      <th>18483</th>\n",
       "      <td>-1.460963e+10</td>\n",
       "      <td>7.435109e+12</td>\n",
       "      <td>18483000</td>\n",
       "    </tr>\n",
       "    <tr>\n",
       "      <th>18484</th>\n",
       "      <td>-9.811956e+09</td>\n",
       "      <td>7.435115e+12</td>\n",
       "      <td>18484000</td>\n",
       "    </tr>\n",
       "    <tr>\n",
       "      <th>18485</th>\n",
       "      <td>-5.014280e+09</td>\n",
       "      <td>7.435119e+12</td>\n",
       "      <td>18485000</td>\n",
       "    </tr>\n",
       "    <tr>\n",
       "      <th>18486</th>\n",
       "      <td>-2.166017e+08</td>\n",
       "      <td>7.435120e+12</td>\n",
       "      <td>18486000</td>\n",
       "    </tr>\n",
       "    <tr>\n",
       "      <th>18487</th>\n",
       "      <td>4.581077e+09</td>\n",
       "      <td>7.435119e+12</td>\n",
       "      <td>18487000</td>\n",
       "    </tr>\n",
       "    <tr>\n",
       "      <th>18488</th>\n",
       "      <td>9.378755e+09</td>\n",
       "      <td>7.435115e+12</td>\n",
       "      <td>18488000</td>\n",
       "    </tr>\n",
       "    <tr>\n",
       "      <th>18489</th>\n",
       "      <td>1.417643e+10</td>\n",
       "      <td>7.435110e+12</td>\n",
       "      <td>18489000</td>\n",
       "    </tr>\n",
       "    <tr>\n",
       "      <th>18490</th>\n",
       "      <td>1.897410e+10</td>\n",
       "      <td>7.435101e+12</td>\n",
       "      <td>18490000</td>\n",
       "    </tr>\n",
       "    <tr>\n",
       "      <th>18491</th>\n",
       "      <td>2.377177e+10</td>\n",
       "      <td>7.435091e+12</td>\n",
       "      <td>18491000</td>\n",
       "    </tr>\n",
       "    <tr>\n",
       "      <th>18492</th>\n",
       "      <td>2.856942e+10</td>\n",
       "      <td>7.435077e+12</td>\n",
       "      <td>18492000</td>\n",
       "    </tr>\n",
       "    <tr>\n",
       "      <th>18493</th>\n",
       "      <td>3.336707e+10</td>\n",
       "      <td>7.435062e+12</td>\n",
       "      <td>18493000</td>\n",
       "    </tr>\n",
       "    <tr>\n",
       "      <th>18494</th>\n",
       "      <td>3.816471e+10</td>\n",
       "      <td>7.435044e+12</td>\n",
       "      <td>18494000</td>\n",
       "    </tr>\n",
       "    <tr>\n",
       "      <th>18495</th>\n",
       "      <td>4.296234e+10</td>\n",
       "      <td>7.435024e+12</td>\n",
       "      <td>18495000</td>\n",
       "    </tr>\n",
       "    <tr>\n",
       "      <th>18496</th>\n",
       "      <td>4.775995e+10</td>\n",
       "      <td>7.435001e+12</td>\n",
       "      <td>18496000</td>\n",
       "    </tr>\n",
       "    <tr>\n",
       "      <th>18497</th>\n",
       "      <td>5.255755e+10</td>\n",
       "      <td>7.434976e+12</td>\n",
       "      <td>18497000</td>\n",
       "    </tr>\n",
       "    <tr>\n",
       "      <th>18498</th>\n",
       "      <td>5.735513e+10</td>\n",
       "      <td>7.434949e+12</td>\n",
       "      <td>18498000</td>\n",
       "    </tr>\n",
       "    <tr>\n",
       "      <th>18499</th>\n",
       "      <td>6.215270e+10</td>\n",
       "      <td>7.434919e+12</td>\n",
       "      <td>18499000</td>\n",
       "    </tr>\n",
       "    <tr>\n",
       "      <th>18500</th>\n",
       "      <td>6.695024e+10</td>\n",
       "      <td>7.434886e+12</td>\n",
       "      <td>18500000</td>\n",
       "    </tr>\n",
       "  </tbody>\n",
       "</table>\n",
       "</div>"
      ],
      "text/plain": [
       "                 ry            rx      time\n",
       "0      0.000000e+00  7.435120e+12         0\n",
       "1      4.797679e+09  7.435119e+12      1000\n",
       "2      9.595356e+09  7.435115e+12      2000\n",
       "3      1.439303e+10  7.435109e+12      3000\n",
       "4      1.919070e+10  7.435101e+12      4000\n",
       "5      2.398837e+10  7.435090e+12      5000\n",
       "6      2.878602e+10  7.435077e+12      6000\n",
       "7      3.358367e+10  7.435061e+12      7000\n",
       "8      3.838131e+10  7.435043e+12      8000\n",
       "9      4.317894e+10  7.435023e+12      9000\n",
       "10     4.797655e+10  7.435000e+12     10000\n",
       "11     5.277415e+10  7.434975e+12     11000\n",
       "12     5.757173e+10  7.434947e+12     12000\n",
       "13     6.236929e+10  7.434917e+12     13000\n",
       "14     6.716684e+10  7.434885e+12     14000\n",
       "18472 -6.738335e+10  7.434883e+12  18472000\n",
       "18473 -6.258581e+10  7.434916e+12  18473000\n",
       "18474 -5.778826e+10  7.434946e+12  18474000\n",
       "18475 -5.299069e+10  7.434974e+12  18475000\n",
       "18476 -4.819311e+10  7.434999e+12  18476000\n",
       "18477 -4.339550e+10  7.435022e+12  18477000\n",
       "18478 -3.859788e+10  7.435042e+12  18478000\n",
       "18479 -3.380025e+10  7.435060e+12  18479000\n",
       "18480 -2.900261e+10  7.435076e+12  18480000\n",
       "18481 -2.420496e+10  7.435089e+12  18481000\n",
       "18482 -1.940730e+10  7.435100e+12  18482000\n",
       "18483 -1.460963e+10  7.435109e+12  18483000\n",
       "18484 -9.811956e+09  7.435115e+12  18484000\n",
       "18485 -5.014280e+09  7.435119e+12  18485000\n",
       "18486 -2.166017e+08  7.435120e+12  18486000\n",
       "18487  4.581077e+09  7.435119e+12  18487000\n",
       "18488  9.378755e+09  7.435115e+12  18488000\n",
       "18489  1.417643e+10  7.435110e+12  18489000\n",
       "18490  1.897410e+10  7.435101e+12  18490000\n",
       "18491  2.377177e+10  7.435091e+12  18491000\n",
       "18492  2.856942e+10  7.435077e+12  18492000\n",
       "18493  3.336707e+10  7.435062e+12  18493000\n",
       "18494  3.816471e+10  7.435044e+12  18494000\n",
       "18495  4.296234e+10  7.435024e+12  18495000\n",
       "18496  4.775995e+10  7.435001e+12  18496000\n",
       "18497  5.255755e+10  7.434976e+12  18497000\n",
       "18498  5.735513e+10  7.434949e+12  18498000\n",
       "18499  6.215270e+10  7.434919e+12  18499000\n",
       "18500  6.695024e+10  7.434886e+12  18500000"
      ]
     },
     "execution_count": 158,
     "metadata": {},
     "output_type": "execute_result"
    }
   ],
   "source": [
    "# Chop away at the data frame based on the constraints given in the prompt\n",
    "df_new = df[np.absolute(df['ry']) < R_star] #absolute value of ry less than r_star\n",
    "df_new\n",
    "df_new = df_new[df_new['rx'] > 0] #rx should be positive\n",
    "df_new"
   ]
  },
  {
   "cell_type": "code",
   "execution_count": 181,
   "id": "95d353ba",
   "metadata": {},
   "outputs": [
    {
     "name": "stdout",
     "output_type": "stream",
     "text": [
      "Transit time =  26000 s\n",
      "This is very similar to what I found in part a.\n"
     ]
    }
   ],
   "source": [
    "# Now I can calculate the time of transit based on this\n",
    "t_transit = 2*(df_new['time'][14] - df_new['time'][1])\n",
    "print('Transit time = ', t_transit, 's')\n",
    "print('This is very similar to what I found in part a.')"
   ]
  },
  {
   "cell_type": "markdown",
   "id": "1c631725",
   "metadata": {},
   "source": [
    "### (c) Third, use the equation for transit duration in the Seager textbook (Equation 14 in the “Transits and Occultations” chapter) to calculate the duration exactly. How much faster is this, compared to the transit duration if the orbit were circular?"
   ]
  },
  {
   "cell_type": "markdown",
   "id": "6acfe735",
   "metadata": {},
   "source": [
    "The textbook equation for transit duration is,\n",
    "$$\n",
    "T_{tot} = \\frac{P}{\\pi} sin^{-1}[\\frac{R_{star}}{a} \\frac{\\sqrt{(1+k)^2 - b^2}}{sin(i)}]\n",
    "$$\n",
    "\n",
    "where $k = R_p/R_{star}$ and b is the impact parameter in units of R$_{star}$ given by,\n",
    "\n",
    "$$\n",
    "b = \\frac{acos(i)}{R_{star}}(\\frac{1-e^2}{1+e sin(\\omega)})\n",
    "$$\n",
    "\n",
    "Typically, I think $\\omega = \\frac{\\Delta \\theta}{\\Delta t}$"
   ]
  },
  {
   "cell_type": "code",
   "execution_count": 300,
   "id": "d4c52ef3",
   "metadata": {},
   "outputs": [
    {
     "name": "stdout",
     "output_type": "stream",
     "text": [
      "\n",
      "Transit time =  39432.577610149885 s\n",
      "This is a slower transit than my answer from part a and b.\n"
     ]
    }
   ],
   "source": [
    "# Need to calculate some things for the equation\n",
    "a = 0.7                               #AU\n",
    "period = np.sqrt(a**3)                #period [years]\n",
    "period_sec = period*3.154e+7          #period [s]\n",
    "R_planet = 6.3e8                      #radius of Earth [cm]\n",
    "k = R_planet/R_star\n",
    "i = 90 * np.pi/180.                   #assume edge on [radians]\n",
    "b = 0 \n",
    "\n",
    "# Now find the transit duration\n",
    "#T_tot = period_sec/np.pi * np.arcsin(R_star/a * np.sqrt((1+k)**2 - b**2)/np.sin(i))\n",
    "T_tot = period_sec/np.pi*np.arcsin((R_star/(a*1.496e+13))*(1+k))\n",
    "T_tot\n",
    "\n",
    "print('\\nTransit time = ',T_tot,'s')\n",
    "print('This is a slower transit than my answer from part a and b.')"
   ]
  },
  {
   "cell_type": "markdown",
   "id": "d2226d70",
   "metadata": {},
   "source": [
    "### (d) In your code, Rotate the orientation of the planet by π radians, so that now apoapse is pointed toward the viewer. Use any of the three methods above to determine the transit duration. \n",
    "\n",
    "### Imagine that you have the ability to measure the transit duration of an exoplanet to a precision of 10%. How eccentric would the planet need to be, in order for you to know for sure that the eccentricity is >0? (That is, how eccentric would the planet need to be in order for Tecc > 1.1Tcirc?). \n",
    "### Why would it be much harder to infer e > 0 for a transiting planet if periapse is pointed toward the viewer? (Using transit durations to constrain eccentricity is a neat trick that was first proposed to the community in a 2012 paper by Bekki Dawson, now a professor at Penn State, and John Johnson, now a professor at Harvard)."
   ]
  },
  {
   "cell_type": "markdown",
   "id": "aa206df9",
   "metadata": {},
   "source": [
    "#### I'm going to recreate what I did for part a except now at apoapse,"
   ]
  },
  {
   "cell_type": "code",
   "execution_count": 267,
   "id": "46beebc7",
   "metadata": {},
   "outputs": [
    {
     "data": {
      "text/plain": [
       "2640679.126981227"
      ]
     },
     "execution_count": 267,
     "metadata": {},
     "output_type": "execute_result"
    }
   ],
   "source": [
    "# Find the orbital velocity of the planet at apoapse using the vis viva equation\n",
    "\n",
    "#Constants\n",
    "G = 6.67e-8                    #Gravitational constant [cgs]\n",
    "M_star = 1.989e33              #Mass of Sun [grams]\n",
    "R_star = 6.96e10               #Radius of sun [cm]\n",
    "\n",
    "#Other important values\n",
    "a = 0.7*1.496e+13              #semi-major axis chosen arbitratily [cm]\n",
    "r_apoapse = r[9300]            #[cm]: planet first aproached apoapse and index = 9300 (based on visual inspection)\n",
    "\n",
    "\n",
    "velocity = np.sqrt(G*M_star*(2/r_apoapse - 1/a))     #[cm/s]\n",
    "velocity\n",
    "\n"
   ]
  },
  {
   "cell_type": "code",
   "execution_count": 306,
   "id": "9cb8fa8c",
   "metadata": {},
   "outputs": [
    {
     "name": "stdout",
     "output_type": "stream",
     "text": [
      "Transit time is about  52713.7123847117 s.\n",
      "Transit is slower at apoapse then at periapse, makes sense.\n"
     ]
    }
   ],
   "source": [
    "# Determine the distance the planet needs to travel for one transit\n",
    "transit_length = 2*R_star      #[cm]\n",
    "\n",
    "# Calculate transit time\n",
    "transit_time = transit_length/velocity\n",
    "transit_time\n",
    "\n",
    "print('Transit time is about ',transit_time,'s.')\n",
    "print('Transit is slower at apoapse then at periapse, makes sense.')"
   ]
  },
  {
   "cell_type": "markdown",
   "id": "40b5fd0a",
   "metadata": {},
   "source": [
    "#### Now I will look into how the transit duration would be different if I had a circular orbit,"
   ]
  },
  {
   "cell_type": "code",
   "execution_count": 307,
   "id": "601ec82b",
   "metadata": {},
   "outputs": [],
   "source": [
    "# Investigate a circular orbit\n",
    "#My code from homework 1:\n",
    "\n",
    "#Constants\n",
    "G = 6.67e-8                    #cgs\n",
    "M_star = 1.989e33              #grams\n",
    "\n",
    "#Choose some values for a, e, and time\n",
    "a = 0.7*1.496e+13              #number of AU [cm]\n",
    "e = 0.0\n",
    "time_stop = 0.6*3.154e+7       #number of year [s]\n",
    "#dt = time_stop/100\n",
    "dt = 86400                     #1 days [s]\n",
    "dt=1000\n",
    "\n",
    "\n",
    "#Initial conditions\n",
    "r_initial = a*(1-e)\n",
    "t_initial = 0\n",
    "theta_initial = 0\n",
    "\n",
    "#Create lists for later\n",
    "r,theta,time = [r_initial], [theta_initial], [t_initial]\n",
    "dtheta = [theta_initial]\n",
    "\n",
    "#Total angular momentum\n",
    "curlyL = np.sqrt(G*M_star*a*(1-e**2))\n",
    "\n",
    "# Iterative process\n",
    "while t_initial < time_stop:\n",
    "    \n",
    "    #Update quantities\n",
    "    dTheta = (curlyL/r_initial**2) * dt\n",
    "    theta_initial += dTheta\n",
    "    r_initial = (a * (1-e**2)) / (1 + e*np.cos(theta_initial))\n",
    "    t_initial += dt\n",
    "    \n",
    "    #Save quantities\n",
    "    dtheta.append(dTheta)\n",
    "    theta.append(theta_initial)\n",
    "    r.append(r_initial)\n",
    "    time.append(t_initial)"
   ]
  },
  {
   "cell_type": "code",
   "execution_count": 308,
   "id": "0c3957f3",
   "metadata": {},
   "outputs": [
    {
     "data": {
      "image/png": "[encoded data removed]",
      "text/plain": [
       "<Figure size 640x480 with 1 Axes>"
      ]
     },
     "metadata": {},
     "output_type": "display_data"
    }
   ],
   "source": [
    "# Plotting\n",
    "plt.scatter(np.array(r)/1.496e+13*np.cos(theta), np.array(r)/1.496e+13*np.sin(theta), color='magenta')\n",
    "plt.scatter(0,0,marker=\"*\", color='orange', linewidth=3)\n",
    "do=9300\n",
    "plt.scatter(np.array(r)[do]/1.496e+13*np.cos(theta)[do], np.array(r)[do]/1.496e+13*np.sin(theta)[do], color='red')\n",
    "\n",
    "plt.xlabel('r cos($\\u03b8$)')\n",
    "plt.ylabel('r sin($\\u03b8$)')\n",
    "plt.title('For a planet with a = '+str(a/1.496e+13)+' AU, e = '+str(e)+', M$_{star}$ = M$_{\\odot}$');"
   ]
  },
  {
   "cell_type": "code",
   "execution_count": 309,
   "id": "b59ec254",
   "metadata": {},
   "outputs": [
    {
     "data": {
      "text/plain": [
       "3559307.352725925"
      ]
     },
     "execution_count": 309,
     "metadata": {},
     "output_type": "execute_result"
    }
   ],
   "source": [
    "# Find the orbital velocity of the planet at apoapse using the vis viva equation\n",
    "\n",
    "#Constants\n",
    "G = 6.67e-8                    #Gravitational constant [cgs]\n",
    "M_star = 1.989e33              #Mass of Sun [grams]\n",
    "R_star = 6.96e10               #Radius of sun [cm]\n",
    "\n",
    "#Other important values\n",
    "a = 0.7*1.496e+13              #semi-major axis chosen arbitratily [cm]\n",
    "r_apoapse = r[9300]            #[cm]: planet first aproached apoapse and index = 9300 (based on visual inspection)\n",
    "\n",
    "\n",
    "velocity = np.sqrt(G*M_star*(2/r_apoapse - 1/a))     #[cm/s]\n",
    "velocity\n"
   ]
  },
  {
   "cell_type": "code",
   "execution_count": 313,
   "id": "b0ae8687",
   "metadata": {},
   "outputs": [
    {
     "name": "stdout",
     "output_type": "stream",
     "text": [
      "Circular orbit transit time is about  39108.73274076557 s.\n",
      "\n",
      "The transit duration for a circular orbit is about 1.34 times faster than for the eccentric orbit.\n"
     ]
    }
   ],
   "source": [
    "# Determine the distance the planet needs to travel for one transit\n",
    "transit_length = 2*R_star      #[cm]\n",
    "\n",
    "# Calculate transit time\n",
    "transit_time = transit_length/velocity\n",
    "transit_time\n",
    "\n",
    "print('Circular orbit transit time is about ',transit_time,'s.')\n",
    "print('\\nThe transit duration for a circular orbit is about 1.34 times faster than for the eccentric orbit.')"
   ]
  },
  {
   "cell_type": "markdown",
   "id": "d1f5dea7",
   "metadata": {},
   "source": [
    "It's much easier to infer eccentricity when the planet is transiting at apoapse because this is the slowest part of the orbit. At periapse there is too much degeneracy about what could \"slow down\" the orbit to be able to tell if eccentricity is having an effect."
   ]
  },
  {
   "cell_type": "code",
   "execution_count": null,
   "id": "5c70c943",
   "metadata": {},
   "outputs": [],
   "source": []
  }
 ],
 "metadata": {
  "kernelspec": {
   "display_name": "Python 3 (ipykernel)",
   "language": "python",
   "name": "python3"
  },
  "language_info": {
   "codemirror_mode": {
    "name": "ipython",
    "version": 3
   },
   "file_extension": ".py",
   "mimetype": "text/x-python",
   "name": "python",
   "nbconvert_exporter": "python",
   "pygments_lexer": "ipython3",
   "version": "3.9.13"
  }
 },
 "nbformat": 4,
 "nbformat_minor": 5
}
